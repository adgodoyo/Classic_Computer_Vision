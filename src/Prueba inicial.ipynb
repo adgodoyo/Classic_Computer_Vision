{
 "cells": [
  {
   "cell_type": "code",
   "id": "initial_id",
   "metadata": {
    "collapsed": true,
    "ExecuteTime": {
     "end_time": "2025-04-11T05:37:26.971987Z",
     "start_time": "2025-04-11T05:37:26.967144Z"
    }
   },
   "source": [
    "import cv2\n",
    "import os\n",
    "import numpy as np\n",
    "from tqdm import tqdm\n",
    "import random\n",
    "import matplotlib.pyplot as plt\n",
    "from glob import glob\n",
    "from sklearn.cluster import KMeans\n",
    "from sklearn.pipeline import Pipeline\n",
    "from sklearn.model_selection import train_test_split, GridSearchCV, StratifiedShuffleSplit\n",
    "from sklearn.preprocessing import StandardScaler\n",
    "from sklearn.feature_selection import SelectKBest, f_classif\n",
    "from sklearn.neighbors import KNeighborsClassifier\n",
    "from sklearn.ensemble import RandomForestClassifier\n",
    "from sklearn.metrics import classification_report, accuracy_score, confusion_matrix, ConfusionMatrixDisplay\n",
    "import pandas as pd\n",
    "import shutil\n",
    "import joblib"
   ],
   "outputs": [],
   "execution_count": 25
  },
  {
   "metadata": {
    "ExecuteTime": {
     "end_time": "2025-04-11T04:59:38.000884Z",
     "start_time": "2025-04-11T04:59:12.789963Z"
    }
   },
   "cell_type": "code",
   "source": [
    "# ------------------ CONFIGURACION ------------------\n",
    "original_path = \"E:/downloads/archive (12)/Train_images\"\n",
    "dataset_split_path = \"E:/downloads/archive (12)/Dataset_split\"\n",
    "\n",
    "split_ratio = {\n",
    "    'train': 0.6,\n",
    "    'val': 0.15,\n",
    "    'test': 0.25\n",
    "}\n",
    "\n",
    "label_map = {\n",
    "    'Cigar-shaped smooth': 0,\n",
    "    'completely round smooth': 1,\n",
    "    'edge-on': 2,\n",
    "    'In between smooth': 3,\n",
    "    'spiral': 4\n",
    "}\n",
    "\n",
    "# ------------------ FUNCION PARA DIVIDIR EL DATASET ------------------\n",
    "def split_dataset():\n",
    "    for subset in split_ratio:\n",
    "        for clase in label_map:\n",
    "            subset_class_dir = os.path.join(dataset_split_path, subset, clase)\n",
    "            os.makedirs(subset_class_dir, exist_ok=True)\n",
    "\n",
    "    for clase in label_map:\n",
    "        clase_path = os.path.join(original_path, clase)\n",
    "        images = glob(os.path.join(clase_path, '*.jpg')) + \\\n",
    "                 glob(os.path.join(clase_path, '*.jpeg')) + \\\n",
    "                 glob(os.path.join(clase_path, '*.png'))\n",
    "\n",
    "        random.shuffle(images)\n",
    "        n_total = len(images)\n",
    "        n_train = int(split_ratio['train'] * n_total)\n",
    "        n_val = int(split_ratio['val'] * n_total)\n",
    "\n",
    "        train_imgs = images[:n_train]\n",
    "        val_imgs = images[n_train:n_train + n_val]\n",
    "        test_imgs = images[n_train + n_val:]\n",
    "\n",
    "        for img_path in train_imgs:\n",
    "            shutil.copy2(img_path, os.path.join(dataset_split_path, 'train', clase, os.path.basename(img_path)))\n",
    "        for img_path in val_imgs:\n",
    "            shutil.copy2(img_path, os.path.join(dataset_split_path, 'val', clase, os.path.basename(img_path)))\n",
    "        for img_path in test_imgs:\n",
    "            shutil.copy2(img_path, os.path.join(dataset_split_path, 'test', clase, os.path.basename(img_path)))\n",
    "\n",
    "    print(\"\\nDataset dividido en train (60%), val (15%) y test (25%) correctamente.\")\n",
    "\n",
    "# ------------------ EJECUTAR ------------------\n",
    "split_dataset()\n"
   ],
   "id": "5fc891d0c115cd32",
   "outputs": [
    {
     "name": "stdout",
     "output_type": "stream",
     "text": [
      "\n",
      "Dataset dividido en train (60%), val (15%) y test (25%) correctamente.\n"
     ]
    }
   ],
   "execution_count": 21
  },
  {
   "metadata": {
    "ExecuteTime": {
     "end_time": "2025-04-11T05:27:43.852660Z",
     "start_time": "2025-04-11T05:09:59.580419Z"
    }
   },
   "cell_type": "code",
   "source": [
    "# ------------------ FUNCIONES DE FILTRADO ------------------\n",
    "filtered_train_path = \"E:/downloads/archive (12)/Filtered_train\"\n",
    "def filtro_prewitt(img):\n",
    "    gray = cv2.cvtColor(img, cv2.COLOR_BGR2GRAY)\n",
    "    kernelx = np.array([[1, 0, -1], [1, 0, -1], [1, 0, -1]])\n",
    "    kernely = np.array([[1, 1, 1], [0, 0, 0], [-1, -1, -1]])\n",
    "    imgx = cv2.filter2D(gray, -1, kernelx)\n",
    "    imgy = cv2.filter2D(gray, -1, kernely)\n",
    "    return cv2.addWeighted(imgx, 0.5, imgy, 0.5, 0)\n",
    "\n",
    "def filtro_clahe(img):\n",
    "    lab = cv2.cvtColor(img, cv2.COLOR_BGR2LAB)\n",
    "    l, a, b = cv2.split(lab)\n",
    "    clahe = cv2.createCLAHE(clipLimit=2.0, tileGridSize=(8, 8))\n",
    "    cl = clahe.apply(l)\n",
    "    limg = cv2.merge((cl, a, b))\n",
    "    return cv2.cvtColor(limg, cv2.COLOR_LAB2BGR)\n",
    "\n",
    "def filtro_bilateral(img):\n",
    "    return cv2.bilateralFilter(img, 9, 75, 75)\n",
    "\n",
    "def filtro_gaussiano(img):\n",
    "    return cv2.GaussianBlur(img, (5, 5), 0)\n",
    "\n",
    "def filtro_sobel(img):\n",
    "    gray = cv2.cvtColor(img, cv2.COLOR_BGR2GRAY)\n",
    "    sobelx = cv2.Sobel(gray, cv2.CV_64F, 1, 0, ksize=3)\n",
    "    sobely = cv2.Sobel(gray, cv2.CV_64F, 0, 1, ksize=3)\n",
    "    mag = cv2.magnitude(sobelx, sobely)\n",
    "    return cv2.convertScaleAbs(mag)\n",
    "\n",
    "# ------------------ APLICAR FILTROS A TRAIN ------------------\n",
    "def apply_filters_to_train():\n",
    "    filtros = {\n",
    "        'prewitt': filtro_prewitt,\n",
    "        'clahe': filtro_clahe,\n",
    "        'bilateral': filtro_bilateral,\n",
    "        'gaussiano': filtro_gaussiano,\n",
    "        'sobel': filtro_sobel\n",
    "    }\n",
    "\n",
    "    train_base = os.path.join(dataset_split_path, 'train')\n",
    "\n",
    "    for filtro_nombre, filtro_func in filtros.items():\n",
    "        for clase in label_map:\n",
    "            input_cls_path = os.path.join(train_base, clase)\n",
    "            output_cls_path = os.path.join(filtered_train_path, filtro_nombre, clase)\n",
    "            os.makedirs(output_cls_path, exist_ok=True)\n",
    "\n",
    "            image_paths = glob(os.path.join(input_cls_path, '*.jpg')) + \\\n",
    "                          glob(os.path.join(input_cls_path, '*.jpeg')) + \\\n",
    "                          glob(os.path.join(input_cls_path, '*.png'))\n",
    "\n",
    "            for img_path in tqdm(image_paths, desc=f\"Aplicando {filtro_nombre} - clase: {clase}\"):\n",
    "                img = cv2.imread(img_path)\n",
    "                if img is None:\n",
    "                    continue\n",
    "\n",
    "                filtered_img = filtro_func(img)\n",
    "                base_name = os.path.basename(img_path)\n",
    "                save_path = os.path.join(output_cls_path, base_name)\n",
    "                cv2.imwrite(save_path, filtered_img)\n",
    "\n",
    "    print(\"\\nFiltrado aplicado a las imágenes de entrenamiento.\")\n",
    "\n",
    "# ------------------ EJECUTAR ------------------\n",
    "apply_filters_to_train()"
   ],
   "id": "af9195a8c871da79",
   "outputs": [
    {
     "name": "stdout",
     "output_type": "stream",
     "text": [
      "\n",
      "Dataset dividido en train (60%), val (15%) y test (25%) correctamente.\n"
     ]
    },
    {
     "name": "stderr",
     "output_type": "stream",
     "text": [
      "Aplicando prewitt - clase: Cigar-shaped smooth: 100%|██████████| 487/487 [00:06<00:00, 72.99it/s]\n",
      "Aplicando prewitt - clase: completely round smooth: 100%|██████████| 7091/7091 [01:21<00:00, 86.64it/s] \n",
      "Aplicando prewitt - clase: edge-on: 100%|██████████| 3278/3278 [00:39<00:00, 83.46it/s] \n",
      "Aplicando prewitt - clase: In between smooth: 100%|██████████| 6820/6820 [01:16<00:00, 88.79it/s] \n",
      "Aplicando prewitt - clase: spiral: 100%|██████████| 6534/6534 [01:17<00:00, 83.79it/s] \n",
      "Aplicando clahe - clase: Cigar-shaped smooth: 100%|██████████| 487/487 [00:01<00:00, 330.58it/s]\n",
      "Aplicando clahe - clase: completely round smooth: 100%|██████████| 7091/7091 [00:49<00:00, 142.70it/s]\n",
      "Aplicando clahe - clase: edge-on: 100%|██████████| 3278/3278 [00:25<00:00, 126.73it/s]\n",
      "Aplicando clahe - clase: In between smooth: 100%|██████████| 6820/6820 [00:46<00:00, 145.98it/s]\n",
      "Aplicando clahe - clase: spiral: 100%|██████████| 6534/6534 [00:49<00:00, 132.06it/s]\n",
      "Aplicando bilateral - clase: Cigar-shaped smooth: 100%|██████████| 487/487 [00:03<00:00, 143.15it/s]\n",
      "Aplicando bilateral - clase: completely round smooth: 100%|██████████| 7091/7091 [00:57<00:00, 123.99it/s]\n",
      "Aplicando bilateral - clase: edge-on: 100%|██████████| 3278/3278 [00:28<00:00, 115.61it/s]\n",
      "Aplicando bilateral - clase: In between smooth: 100%|██████████| 6820/6820 [01:06<00:00, 102.37it/s]\n",
      "Aplicando bilateral - clase: spiral: 100%|██████████| 6534/6534 [01:10<00:00, 93.01it/s] \n",
      "Aplicando gaussiano - clase: Cigar-shaped smooth: 100%|██████████| 487/487 [00:01<00:00, 302.32it/s]\n",
      "Aplicando gaussiano - clase: completely round smooth: 100%|██████████| 7091/7091 [00:48<00:00, 146.13it/s]\n",
      "Aplicando gaussiano - clase: edge-on: 100%|██████████| 3278/3278 [00:22<00:00, 148.32it/s]\n",
      "Aplicando gaussiano - clase: In between smooth: 100%|██████████| 6820/6820 [00:52<00:00, 129.73it/s]\n",
      "Aplicando gaussiano - clase: spiral: 100%|██████████| 6534/6534 [00:42<00:00, 154.63it/s]\n",
      "Aplicando sobel - clase: Cigar-shaped smooth: 100%|██████████| 487/487 [00:03<00:00, 142.25it/s]\n",
      "Aplicando sobel - clase: completely round smooth: 100%|██████████| 7091/7091 [01:00<00:00, 116.89it/s]\n",
      "Aplicando sobel - clase: edge-on: 100%|██████████| 3278/3278 [00:24<00:00, 134.19it/s]\n",
      "Aplicando sobel - clase: In between smooth: 100%|██████████| 6820/6820 [00:55<00:00, 123.80it/s]\n",
      "Aplicando sobel - clase: spiral: 100%|██████████| 6534/6534 [00:49<00:00, 133.13it/s]"
     ]
    },
    {
     "name": "stdout",
     "output_type": "stream",
     "text": [
      "\n",
      "Filtrado aplicado a las imágenes de entrenamiento.\n"
     ]
    },
    {
     "name": "stderr",
     "output_type": "stream",
     "text": [
      "\n"
     ]
    }
   ],
   "execution_count": 22
  },
  {
   "metadata": {
    "ExecuteTime": {
     "end_time": "2025-04-11T05:33:35.546293Z",
     "start_time": "2025-04-11T05:27:43.986626Z"
    }
   },
   "cell_type": "code",
   "source": [
    "borders_train_path = \"E:/downloads/archive (12)/Bordered_train\"\n",
    "# ------------------ FUNCIONES DE DETECCION DE BORDES ------------------\n",
    "def aplicar_canny(img):\n",
    "    gray = cv2.cvtColor(img, cv2.COLOR_BGR2GRAY)\n",
    "    return cv2.Canny(gray, 100, 200)\n",
    "\n",
    "def aplicar_laplacian(img):\n",
    "    gray = cv2.cvtColor(img, cv2.COLOR_BGR2GRAY)\n",
    "    lap = cv2.Laplacian(gray, cv2.CV_64F)\n",
    "    return np.uint8(np.absolute(lap))\n",
    "\n",
    "def aplicar_otsu(img):\n",
    "    gray = cv2.cvtColor(img, cv2.COLOR_BGR2GRAY)\n",
    "    _, otsu = cv2.threshold(gray, 0, 255, cv2.THRESH_BINARY + cv2.THRESH_OTSU)\n",
    "    return otsu\n",
    "\n",
    "# ------------------ APLICAR FILTROS DE BORDE A TRAIN ------------------\n",
    "def apply_edge_detectors_to_train():\n",
    "    bordes = {\n",
    "        'canny': aplicar_canny,\n",
    "        'laplacian': aplicar_laplacian,\n",
    "        'otsu': aplicar_otsu\n",
    "    }\n",
    "\n",
    "    train_base = os.path.join(dataset_split_path, 'train')\n",
    "\n",
    "    for metodo_nombre, metodo_func in bordes.items():\n",
    "        for clase in label_map:\n",
    "            input_cls_path = os.path.join(train_base, clase)\n",
    "            output_cls_path = os.path.join(borders_train_path, metodo_nombre, clase)\n",
    "            os.makedirs(output_cls_path, exist_ok=True)\n",
    "\n",
    "            image_paths = glob(os.path.join(input_cls_path, '*.jpg')) + \\\n",
    "                          glob(os.path.join(input_cls_path, '*.jpeg')) + \\\n",
    "                          glob(os.path.join(input_cls_path, '*.png'))\n",
    "\n",
    "            for img_path in tqdm(image_paths, desc=f\"Aplicando {metodo_nombre} - clase: {clase}\"):\n",
    "                img = cv2.imread(img_path)\n",
    "                if img is None:\n",
    "                    continue\n",
    "\n",
    "                bordered_img = metodo_func(img)\n",
    "                base_name = os.path.basename(img_path)\n",
    "                save_path = os.path.join(output_cls_path, base_name)\n",
    "                cv2.imwrite(save_path, bordered_img)\n",
    "\n",
    "    print(\"\\nDetección de bordes aplicada a las imágenes de entrenamiento.\")\n",
    "\n",
    "# ------------------ EJECUTAR ------------------\n",
    "apply_edge_detectors_to_train()"
   ],
   "id": "e7df6168524a5f6c",
   "outputs": [
    {
     "name": "stderr",
     "output_type": "stream",
     "text": [
      "Aplicando canny - clase: Cigar-shaped smooth: 100%|██████████| 487/487 [00:02<00:00, 236.63it/s]\n",
      "Aplicando canny - clase: completely round smooth: 100%|██████████| 7091/7091 [00:18<00:00, 375.52it/s]\n",
      "Aplicando canny - clase: edge-on: 100%|██████████| 3278/3278 [00:08<00:00, 386.59it/s]\n",
      "Aplicando canny - clase: In between smooth: 100%|██████████| 6820/6820 [00:15<00:00, 442.21it/s]\n",
      "Aplicando canny - clase: spiral: 100%|██████████| 6534/6534 [00:16<00:00, 394.58it/s]\n",
      "Aplicando laplacian - clase: Cigar-shaped smooth: 100%|██████████| 487/487 [00:04<00:00, 114.29it/s]\n",
      "Aplicando laplacian - clase: completely round smooth: 100%|██████████| 7091/7091 [00:46<00:00, 151.91it/s]\n",
      "Aplicando laplacian - clase: edge-on: 100%|██████████| 3278/3278 [00:20<00:00, 162.41it/s]\n",
      "Aplicando laplacian - clase: In between smooth: 100%|██████████| 6820/6820 [00:47<00:00, 143.20it/s]\n",
      "Aplicando laplacian - clase: spiral: 100%|██████████| 6534/6534 [00:42<00:00, 154.80it/s]\n",
      "Aplicando otsu - clase: Cigar-shaped smooth: 100%|██████████| 487/487 [00:02<00:00, 199.69it/s]\n",
      "Aplicando otsu - clase: completely round smooth: 100%|██████████| 7091/7091 [00:34<00:00, 203.86it/s]\n",
      "Aplicando otsu - clase: edge-on: 100%|██████████| 3278/3278 [00:19<00:00, 165.41it/s]\n",
      "Aplicando otsu - clase: In between smooth: 100%|██████████| 6820/6820 [00:34<00:00, 194.92it/s]\n",
      "Aplicando otsu - clase: spiral: 100%|██████████| 6534/6534 [00:36<00:00, 177.99it/s]"
     ]
    },
    {
     "name": "stdout",
     "output_type": "stream",
     "text": [
      "\n",
      "Detección de bordes aplicada a las imágenes de entrenamiento.\n"
     ]
    },
    {
     "name": "stderr",
     "output_type": "stream",
     "text": [
      "\n"
     ]
    }
   ],
   "execution_count": 23
  },
  {
   "metadata": {
    "ExecuteTime": {
     "end_time": "2025-04-11T05:43:30.588510Z",
     "start_time": "2025-04-11T05:40:38.542849Z"
    }
   },
   "cell_type": "code",
   "source": [
    "equalized_train_path = \"E:/downloads/archive (12)/Equalized_train\"\n",
    "# ------------------ FUNCION DE ECUALIZACION DE HISTOGRAMA ------------------\n",
    "def apply_histogram_equalization_to_train():\n",
    "    train_base = os.path.join(dataset_split_path, 'train')\n",
    "\n",
    "    for clase in label_map:\n",
    "        input_cls_path = os.path.join(train_base, clase)\n",
    "        output_cls_path = os.path.join(equalized_train_path, clase)\n",
    "        os.makedirs(output_cls_path, exist_ok=True)\n",
    "\n",
    "        image_paths = glob(os.path.join(input_cls_path, '*.jpg')) + \\\n",
    "                      glob(os.path.join(input_cls_path, '*.jpeg')) + \\\n",
    "                      glob(os.path.join(input_cls_path, '*.png'))\n",
    "\n",
    "        for img_path in tqdm(image_paths, desc=f\"Ecualizando - clase: {clase}\"):\n",
    "            img = cv2.imread(img_path)\n",
    "            if img is None:\n",
    "                continue\n",
    "\n",
    "            ycrcb = cv2.cvtColor(img, cv2.COLOR_BGR2YCrCb)\n",
    "            y_channel, cr, cb = cv2.split(ycrcb)\n",
    "            y_eq = cv2.equalizeHist(y_channel)\n",
    "            ycrcb_eq = cv2.merge((y_eq, cr, cb))\n",
    "            img_eq = cv2.cvtColor(ycrcb_eq, cv2.COLOR_YCrCb2BGR)\n",
    "\n",
    "            base_name = os.path.basename(img_path)\n",
    "            save_path = os.path.join(output_cls_path, base_name)\n",
    "            cv2.imwrite(save_path, img_eq)\n",
    "\n",
    "    print(\"\\nEcualización de histograma aplicada a las imágenes de entrenamiento.\")\n",
    "apply_histogram_equalization_to_train()"
   ],
   "id": "3421dd49186fadf4",
   "outputs": [
    {
     "name": "stderr",
     "output_type": "stream",
     "text": [
      "Ecualizando - clase: Cigar-shaped smooth: 100%|██████████| 487/487 [00:01<00:00, 360.88it/s]\n",
      "Ecualizando - clase: completely round smooth: 100%|██████████| 7091/7091 [00:51<00:00, 138.30it/s]\n",
      "Ecualizando - clase: edge-on: 100%|██████████| 3278/3278 [00:24<00:00, 135.24it/s]\n",
      "Ecualizando - clase: In between smooth: 100%|██████████| 6820/6820 [00:49<00:00, 137.80it/s]\n",
      "Ecualizando - clase: spiral: 100%|██████████| 6534/6534 [00:45<00:00, 143.47it/s]"
     ]
    },
    {
     "name": "stdout",
     "output_type": "stream",
     "text": [
      "\n",
      "Ecualización de histograma aplicada a las imágenes de entrenamiento.\n"
     ]
    },
    {
     "name": "stderr",
     "output_type": "stream",
     "text": [
      "\n"
     ]
    }
   ],
   "execution_count": 28
  },
  {
   "metadata": {
    "ExecuteTime": {
     "end_time": "2025-04-11T06:42:08.339455Z",
     "start_time": "2025-04-11T06:20:18.575658Z"
    }
   },
   "cell_type": "code",
   "source": [
    "final_train_path = \"E:/downloads/archive (12)/Final_train\"\n",
    "sift_descriptor_output = \"E:/downloads/archive (12)/sift_descriptors.pkl\"\n",
    "classes = list(label_map.keys())\n",
    "\n",
    "# ------------------ FUNCIONES DE COMBINACION Y SIFT ------------------\n",
    "def combine_filtered_images():\n",
    "    sources = [filtered_train_path, borders_train_path, equalized_train_path]\n",
    "    for clase in label_map:\n",
    "        dest_cls_path = os.path.join(final_train_path, clase)\n",
    "        os.makedirs(dest_cls_path, exist_ok=True)\n",
    "\n",
    "        for source in sources:\n",
    "            for method in os.listdir(source):\n",
    "                source_cls_path = os.path.join(source, method, clase) if os.path.isdir(os.path.join(source, method)) else os.path.join(source, clase)\n",
    "                if not os.path.exists(source_cls_path):\n",
    "                    continue\n",
    "\n",
    "                image_paths = glob(os.path.join(source_cls_path, '*.*'))\n",
    "\n",
    "                for img_path in image_paths:\n",
    "                    filename = os.path.basename(img_path)\n",
    "                    new_filename = f\"{os.path.basename(source)}_{method}_{filename}\" if os.path.isdir(os.path.join(source, method)) else f\"{os.path.basename(source)}_{filename}\"\n",
    "                    new_path = os.path.join(dest_cls_path, new_filename)\n",
    "                    shutil.copyfile(img_path, new_path)\n",
    "    print(\"\\nImágenes combinadas en carpeta final.\")\n",
    "combine_filtered_images()\n"
   ],
   "id": "9e1d1a7e1445d568",
   "outputs": [
    {
     "name": "stdout",
     "output_type": "stream",
     "text": [
      "\n",
      "Imágenes combinadas en carpeta final.\n"
     ]
    }
   ],
   "execution_count": 31
  },
  {
   "metadata": {
    "ExecuteTime": {
     "end_time": "2025-04-11T08:34:25.417001100Z",
     "start_time": "2025-04-11T06:43:10.931455Z"
    }
   },
   "cell_type": "code",
   "source": [
    "def extract_sift_descriptors(dataset_dir):\n",
    "    sift = cv2.SIFT_create(nfeatures=500)\n",
    "    descriptors_list = []\n",
    "    labels_list = []\n",
    "\n",
    "    for cls in classes:\n",
    "        cls_path = os.path.join(dataset_dir, cls)\n",
    "        image_paths = glob(os.path.join(cls_path, '*.jpg')) + \\\n",
    "                      glob(os.path.join(cls_path, '*.jpeg')) + \\\n",
    "                      glob(os.path.join(cls_path, '*.png'))\n",
    "\n",
    "        print(f\"Procesando clase: {cls} ({len(image_paths)} imágenes)\")\n",
    "\n",
    "        for img_path in tqdm(image_paths):\n",
    "            img = cv2.imread(img_path)\n",
    "            if img is None:\n",
    "                continue\n",
    "\n",
    "            gray = cv2.cvtColor(img, cv2.COLOR_BGR2GRAY)\n",
    "            keypoints, descriptors = sift.detectAndCompute(gray, None)\n",
    "\n",
    "            if descriptors is not None:\n",
    "                descriptors_list.append(descriptors)\n",
    "                labels_list.append(cls)\n",
    "\n",
    "    print(\"\\nExtracción de descriptores SIFT finalizada.\")\n",
    "    joblib.dump((descriptors_list, labels_list), sift_descriptor_output)\n",
    "    print(f\"Descriptores guardados en: {sift_descriptor_output}\")\n",
    "\n",
    "\n",
    "extract_sift_descriptors(final_train_path)"
   ],
   "id": "ef758085293cc4cf",
   "outputs": [
    {
     "name": "stdout",
     "output_type": "stream",
     "text": [
      "Procesando clase: Cigar-shaped smooth (3896 imágenes)\n"
     ]
    },
    {
     "name": "stderr",
     "output_type": "stream",
     "text": [
      "100%|██████████| 3896/3896 [01:51<00:00, 34.83it/s]\n"
     ]
    },
    {
     "name": "stdout",
     "output_type": "stream",
     "text": [
      "Procesando clase: completely round smooth (56728 imágenes)\n"
     ]
    },
    {
     "name": "stderr",
     "output_type": "stream",
     "text": [
      "100%|██████████| 56728/56728 [31:00<00:00, 30.49it/s]\n"
     ]
    },
    {
     "name": "stdout",
     "output_type": "stream",
     "text": [
      "Procesando clase: edge-on (26224 imágenes)\n"
     ]
    },
    {
     "name": "stderr",
     "output_type": "stream",
     "text": [
      "100%|██████████| 26224/26224 [13:33<00:00, 32.26it/s]\n"
     ]
    },
    {
     "name": "stdout",
     "output_type": "stream",
     "text": [
      "Procesando clase: In between smooth (54560 imágenes)\n"
     ]
    },
    {
     "name": "stderr",
     "output_type": "stream",
     "text": [
      "100%|██████████| 54560/54560 [27:49<00:00, 32.69it/s]\n"
     ]
    },
    {
     "name": "stdout",
     "output_type": "stream",
     "text": [
      "Procesando clase: spiral (52272 imágenes)\n"
     ]
    },
    {
     "name": "stderr",
     "output_type": "stream",
     "text": [
      " 72%|███████▏  | 37761/52272 [23:32<07:33, 32.00it/s]   "
     ]
    }
   ],
   "execution_count": null
  },
  {
   "metadata": {
    "ExecuteTime": {
     "start_time": "2025-04-11T01:17:04.915132Z"
    }
   },
   "cell_type": "code",
   "source": "",
   "id": "de16cc82415a2a5f",
   "outputs": [
    {
     "name": "stdout",
     "output_type": "stream",
     "text": [
      "\n",
      "Aplicando: Bilateral + Sobel + Otsu\n"
     ]
    },
    {
     "name": "stderr",
     "output_type": "stream",
     "text": [
      "Clase Cigar-shaped smooth:   0%|          | 0/579 [00:00<?, ?it/s]"
     ]
    },
    {
     "data": {
      "text/plain": [
       "<Figure size 640x480 with 1 Axes>"
      ],
      "image/png": "[encoded data removed]"
     },
     "metadata": {},
     "output_type": "display_data"
    },
    {
     "name": "stderr",
     "output_type": "stream",
     "text": [
      "Clase Cigar-shaped smooth:   0%|          | 1/579 [00:00<01:22,  7.04it/s]"
     ]
    },
    {
     "data": {
      "text/plain": [
       "<Figure size 640x480 with 1 Axes>"
      ],
      "image/png": "[encoded data removed]"
     },
     "metadata": {},
     "output_type": "display_data"
    },
    {
     "name": "stderr",
     "output_type": "stream",
     "text": [
      "Clase Cigar-shaped smooth:   0%|          | 2/579 [00:00<01:10,  8.23it/s]"
     ]
    },
    {
     "data": {
      "text/plain": [
       "<Figure size 640x480 with 1 Axes>"
      ],
      "image/png": "[encoded data removed]"
     },
     "metadata": {},
     "output_type": "display_data"
    },
    {
     "name": "stderr",
     "output_type": "stream",
     "text": [
      "Clase Cigar-shaped smooth:  27%|██▋       | 158/579 [00:03<00:07, 53.01it/s]"
     ]
    }
   ],
   "execution_count": null
  },
  {
   "metadata": {},
   "cell_type": "code",
   "outputs": [],
   "execution_count": null,
   "source": "",
   "id": "41fd0305c536cd9b"
  }
 ],
 "metadata": {
  "kernelspec": {
   "display_name": "Python 3",
   "language": "python",
   "name": "python3"
  },
  "language_info": {
   "codemirror_mode": {
    "name": "ipython",
    "version": 2
   },
   "file_extension": ".py",
   "mimetype": "text/x-python",
   "name": "python",
   "nbconvert_exporter": "python",
   "pygments_lexer": "ipython2",
   "version": "2.7.6"
  }
 },
 "nbformat": 4,
 "nbformat_minor": 5
}
